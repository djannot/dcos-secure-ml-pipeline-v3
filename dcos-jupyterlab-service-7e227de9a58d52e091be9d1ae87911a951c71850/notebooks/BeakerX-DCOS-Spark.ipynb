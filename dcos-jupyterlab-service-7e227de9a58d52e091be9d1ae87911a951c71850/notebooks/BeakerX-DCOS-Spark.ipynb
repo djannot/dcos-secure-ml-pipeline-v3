{
 "cells": [
  {
   "cell_type": "code",
   "execution_count": null,
   "metadata": {
    "scrolled": false
   },
   "outputs": [],
   "source": [
    "%classpath add jar /mnt/mesos/sandbox\n",
    "%classpath add jar /opt/spark/jars/*\n",
    "%classpath add jar /opt/hadoop/share/hadoop/common/*\n",
    "%classpath add jar /opt/hadoop/share/hadoop/common/lib/*\n",
    "%classpath add jar /opt/hadoop/share/hadoop/hdfs/*\n",
    "%classpath add jar /opt/hadoop/share/hadoop/hdfs/lib/*\n",
    "%classpath add jar /opt/hadoop/share/hadoop/yarn/*\n",
    "%classpath add jar /opt/hadoop/share/hadoop/yarn/lib/*\n",
    "%classpath add jar /opt/hadoop/share/hadoop/mapreduce/*\n",
    "%classpath add jar /opt/hadoop/share/hadoop/mapreduce/lib/*\n",
    "%classpath add jar /opt/hadoop/share/hadoop/tools/lib/*"
   ]
  },
  {
   "cell_type": "code",
   "execution_count": null,
   "metadata": {},
   "outputs": [],
   "source": [
    "%%spark --start"
   ]
  },
  {
   "cell_type": "code",
   "execution_count": null,
   "metadata": {},
   "outputs": [],
   "source": [
    "val NUM_SAMPLES = 10000000\n",
    "\n",
    "val count2 = spark.sparkContext.parallelize(1 to NUM_SAMPLES).map{i =>\n",
    "  val x = Math.random()\n",
    "  val y = Math.random()\n",
    "  if (x*x + y*y < 1) 1 else 0\n",
    "}.reduce(_ + _)\n",
    "\n",
    "println(\"Pi is roughly \" + 4.0 * count2 / NUM_SAMPLES)"
   ]
  },
  {
   "cell_type": "code",
   "execution_count": null,
   "metadata": {},
   "outputs": [],
   "source": []
  }
 ],
 "metadata": {
  "kernelspec": {
   "display_name": "Scala",
   "language": "scala",
   "name": "scala"
  },
  "language_info": {
   "codemirror_mode": "text/x-scala",
   "file_extension": ".scala",
   "mimetype": "",
   "name": "Scala",
   "nbconverter_exporter": "",
   "version": "2.11.12"
  }
 },
 "nbformat": 4,
 "nbformat_minor": 2
}
